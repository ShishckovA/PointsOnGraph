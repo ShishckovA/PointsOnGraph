{
 "cells": [
  {
   "cell_type": "code",
   "execution_count": 1,
   "id": "greenhouse-chart",
   "metadata": {},
   "outputs": [
    {
     "name": "stdout",
     "output_type": "stream",
     "text": [
      "{0: [0 -> 1 (t_0), 0 -> 1 (t_1), 0 -> 1 (t_2), 0 -> 1 (t_3)], 1: [1 -> 0 (t_0), 1 -> 0 (t_1), 1 -> 0 (t_2), 1 -> 0 (t_3)]}\n"
     ]
    }
   ],
   "source": [
    "from itertools import chain, combinations\n",
    "\n",
    "from graph2 import *\n",
    "\n",
    "import sympy\n",
    "\n",
    "from symplex_counting.todd import build_rk\n",
    "\n",
    "# multiedge\n",
    "n, m = 2, 4\n",
    "g = Graph()\n",
    "ts = [sympy.Symbol(f\"t_{i}\") for i in range(m)]\n",
    "T = sympy.Symbol(\"T\")\n",
    "g.add_edge(Edge(0, 1, ts[0]))\n",
    "g.add_edge(Edge(0, 1, ts[1]))\n",
    "g.add_edge(Edge(0, 1, ts[2]))\n",
    "g.add_edge(Edge(0, 1, ts[3]))\n",
    "print(g)\n",
    "\n",
    "# bamboo-2\n",
    "# n, m = 3, 2\n",
    "# g = Graph()\n",
    "# ts = [sympy.Symbol(f\"t_{i}\") for i in range(m)]\n",
    "# T = sympy.Symbol(\"T\")\n",
    "# g.add_edge(Edge(0, 1, ts[0]))\n",
    "# g.add_edge(Edge(1, 2, ts[1]))\n",
    "# print(g)\n",
    "\n",
    "# tail-tri\n",
    "# n, m = 5, 5\n",
    "# g = Graph()\n",
    "# ts = [sympy.Symbol(f\"t_{i}\") for i in range(m)]\n",
    "# T = sympy.Symbol(\"T\")\n",
    "# g.add_edge(Edge(0, 1, ts[0]))\n",
    "# g.add_edge(Edge(1, 2, ts[1]))\n",
    "# g.add_edge(Edge(2, 0, ts[2]))\n",
    "# g.add_edge(Edge(0, 3, ts[3]))\n",
    "# g.add_edge(Edge(3, 4, ts[4]))\n",
    "# print(g)\n",
    "\n",
    "# tri\n",
    "# n, m = 3, 3\n",
    "# g = Graph()\n",
    "# ts = [sympy.Symbol(f\"t_{i}\") for i in range(m)]\n",
    "# T = sympy.Symbol(\"T\")\n",
    "# g.add_edge(Edge(0, 1, ts[0]))\n",
    "# g.add_edge(Edge(1, 2, ts[1]))\n",
    "# g.add_edge(Edge(2, 0, ts[2]))\n",
    "# print(g)\n",
    "\n",
    "# single-edge\n",
    "# n, m = 2, 1\n",
    "# g = Graph()\n",
    "# ts = [sympy.Symbol(f\"t_{i}\") for i in range(m)]\n",
    "# T = sympy.Symbol(\"T\")\n",
    "# g.add_edge(Edge(0, 1, ts[0]))\n",
    "# print(g)"
   ]
  },
  {
   "cell_type": "code",
   "execution_count": 2,
   "id": "personalized-numbers",
   "metadata": {},
   "outputs": [],
   "source": [
    "def powerset(iterable):\n",
    "    s = list(iterable)\n",
    "    return chain.from_iterable(combinations(s, r) for r in range(len(s) + 1))\n",
    "\n",
    "def dfs(g, v, used):\n",
    "    used[v] = True\n",
    "    for edge in g.g[v]:\n",
    "        u = edge.end\n",
    "        if not used[u]:\n",
    "            dfs(g, u, used)\n",
    "\n",
    "def is_connected(g, v):\n",
    "    n = len(g.g)\n",
    "    used = {i: False for i in g.g}\n",
    "    dfs(g, v, used)\n",
    "    return sum(used.values()) == n\n",
    "\n",
    "def get_all_subg(g, v):\n",
    "    edges = [edges_with_hash[0] for edges_with_hash in g.edges.values()]\n",
    "    res = set()\n",
    "    for subgraph in powerset(edges):\n",
    "        g1 = Graph()\n",
    "        g1.add_vertex(v)\n",
    "        for e1 in subgraph:\n",
    "            g1.add_edge(e1)\n",
    "        if is_connected(g1, v):\n",
    "            res.add(g1)\n",
    "    return res\n",
    "\n",
    "\n",
    "def dfs2(g, c, f, used, cs):\n",
    "    if c == f:\n",
    "        cs.append(used.copy())\n",
    "    for edge in g.g[c]:\n",
    "        u = edge.end\n",
    "        if used[edge.eid] < 2:\n",
    "            used[edge.eid] += 1\n",
    "            dfs2(g, u, f, used, cs)\n",
    "            used[edge.eid] -= 1\n",
    "\n",
    "\n",
    "def unique(arr):\n",
    "    return set(tuple(celem) for celem in (sorted(\n",
    "            cs.items(), key=lambda elem: elem[0]\n",
    "        ) for cs in arr)\n",
    "    )\n",
    "\n",
    "\n",
    "\n",
    "def all_routes(g, s, v):\n",
    "    used = {eid: 0 for eid in g.edges}\n",
    "    cs = []\n",
    "    dfs2(g, s, v, used, cs)\n",
    "    res = [{\n",
    "        eid: 2 - used[eid] % 2 for eid in g.edges\n",
    "    } for used in cs]\n",
    "    res = unique(res)\n",
    "    res1 = [[(g.edges[eid][0], c) for eid, c in cs] for cs in res]\n",
    "    return res1\n"
   ]
  },
  {
   "cell_type": "code",
   "execution_count": 3,
   "id": "amended-probability",
   "metadata": {},
   "outputs": [
    {
     "name": "stdout",
     "output_type": "stream",
     "text": [
      "[(0 -> 1 (t_1), 2), (0 -> 1 (t_2), 1), (0 -> 1 (t_0), 2), (0 -> 1 (t_3), 2)]\n",
      "[(0 -> 1 (t_1), 1), (0 -> 1 (t_2), 1), (0 -> 1 (t_0), 2), (0 -> 1 (t_3), 1)]\n",
      "[(0 -> 1 (t_1), 2), (0 -> 1 (t_2), 2), (0 -> 1 (t_0), 1), (0 -> 1 (t_3), 2)]\n",
      "[(0 -> 1 (t_1), 1), (0 -> 1 (t_2), 2), (0 -> 1 (t_0), 1), (0 -> 1 (t_3), 1)]\n",
      "[(0 -> 1 (t_1), 2), (0 -> 1 (t_2), 1), (0 -> 1 (t_0), 1), (0 -> 1 (t_3), 1)]\n",
      "[(0 -> 1 (t_1), 1), (0 -> 1 (t_2), 1), (0 -> 1 (t_0), 1), (0 -> 1 (t_3), 2)]\n",
      "[(0 -> 1 (t_1), 2), (0 -> 1 (t_2), 2), (0 -> 1 (t_0), 2), (0 -> 1 (t_3), 1)]\n",
      "[(0 -> 1 (t_1), 1), (0 -> 1 (t_2), 2), (0 -> 1 (t_0), 2), (0 -> 1 (t_3), 2)]\n"
     ]
    }
   ],
   "source": [
    "for elem in all_routes(g, 0, 1):\n",
    "    print(elem)"
   ]
  },
  {
   "cell_type": "code",
   "execution_count": 4,
   "id": "decreased-source",
   "metadata": {},
   "outputs": [
    {
     "name": "stdout",
     "output_type": "stream",
     "text": [
      "0\n",
      "1\n",
      "2\n",
      "3\n",
      "4\n"
     ]
    }
   ],
   "source": [
    "s = 0\n",
    "l = sympy.Symbol(\"lambda\")\n",
    "ws = [sympy.Symbol(f\"w_{i}\") for i in range(m + 1)]\n",
    "Rks = [build_rk(i, l, ws[:i]) for i in range(m + 1)]\n"
   ]
  },
  {
   "cell_type": "code",
   "execution_count": 5,
   "id": "dated-pepper",
   "metadata": {},
   "outputs": [
    {
     "name": "stdout",
     "output_type": "stream",
     "text": [
      "[1, (lambda + w_0/2)/w_0, (lambda**2/2 + lambda*(w_0/2 + w_1/2) + w_0**2/12 + w_0*w_1/4 + w_1**2/12)/(w_0*w_1), (lambda**3/6 + lambda**2*(w_0/2 + w_1/2 + w_2/2)/2 + lambda*(w_0**2/12 + w_0*w_1/4 + w_0*w_2/4 + w_1**2/12 + w_1*w_2/4 + w_2**2/12) + w_0**2*w_1/24 + w_0**2*w_2/24 + w_0*w_1**2/24 + w_0*w_1*w_2/8 + w_0*w_2**2/24 + w_1**2*w_2/24 + w_1*w_2**2/24)/(w_0*w_1*w_2), (lambda**4/24 + lambda**3*(w_0/2 + w_1/2 + w_2/2 + w_3/2)/6 + lambda**2*(w_0**2/12 + w_0*w_1/4 + w_0*w_2/4 + w_0*w_3/4 + w_1**2/12 + w_1*w_2/4 + w_1*w_3/4 + w_2**2/12 + w_2*w_3/4 + w_3**2/12)/2 + lambda*(w_0**2*w_1/24 + w_0**2*w_2/24 + w_0**2*w_3/24 + w_0*w_1**2/24 + w_0*w_1*w_2/8 + w_0*w_1*w_3/8 + w_0*w_2**2/24 + w_0*w_2*w_3/8 + w_0*w_3**2/24 + w_1**2*w_2/24 + w_1**2*w_3/24 + w_1*w_2**2/24 + w_1*w_2*w_3/8 + w_1*w_3**2/24 + w_2**2*w_3/24 + w_2*w_3**2/24) - w_0**4/720 + w_0**2*w_1**2/144 + w_0**2*w_1*w_2/48 + w_0**2*w_1*w_3/48 + w_0**2*w_2**2/144 + w_0**2*w_2*w_3/48 + w_0**2*w_3**2/144 + w_0*w_1**2*w_2/48 + w_0*w_1**2*w_3/48 + w_0*w_1*w_2**2/48 + w_0*w_1*w_2*w_3/16 + w_0*w_1*w_3**2/48 + w_0*w_2**2*w_3/48 + w_0*w_2*w_3**2/48 - w_1**4/720 + w_1**2*w_2**2/144 + w_1**2*w_2*w_3/48 + w_1**2*w_3**2/144 + w_1*w_2**2*w_3/48 + w_1*w_2*w_3**2/48 - w_2**4/720 + w_2**2*w_3**2/144 - w_3**4/720)/(w_0*w_1*w_2*w_3)]\n"
     ]
    }
   ],
   "source": [
    "print(Rks)\n"
   ]
  },
  {
   "cell_type": "code",
   "execution_count": 6,
   "id": "personal-syntax",
   "metadata": {},
   "outputs": [],
   "source": [
    "def dfs3(g, v, banned, used):\n",
    "    used[v] = True\n",
    "    for edge in g.g[v]:\n",
    "        if edge.eid == banned:\n",
    "            continue\n",
    "        if not used[edge.end]:\n",
    "            dfs3(g, edge.end, banned, used)\n",
    "\n",
    "\n",
    "\n",
    "def get_isthmus(g, s, v):\n",
    "    if len(g.g[v]) == 1:\n",
    "        return None\n",
    "    for elem in g.g[v]:\n",
    "        used = {i: False for i in g.g}\n",
    "        dfs3(g, s, elem.eid, used)\n",
    "        if not used[v]:\n",
    "            return elem\n",
    "    return None\n"
   ]
  },
  {
   "cell_type": "code",
   "execution_count": 7,
   "id": "small-campus",
   "metadata": {
    "scrolled": false
   },
   "outputs": [],
   "source": [
    "R1 = sympy.S.Zero\n",
    "for sub_g in get_all_subg(g, s):\n",
    "    ts2 = [edges[0].t * 2 for eid, edges in sub_g.edges.items()]\n",
    "    Rk = Rks[len(ts2)].subs([(w, t2) for w, t2 in zip(ws, ts2)])\n",
    "    res1 = sympy.S.Zero\n",
    "    for v in sub_g.g:\n",
    "        res2 = sympy.S.Zero\n",
    "        for cs in all_routes(sub_g, s, v):\n",
    "            res2 += Rk.subs([(l, T - sum(c * edge.t for edge, c in cs))])\n",
    "        res1 += (len(g.g[v]) - len(sub_g.g[v])) * res2\n",
    "    R1 += res1\n"
   ]
  },
  {
   "cell_type": "code",
   "execution_count": 8,
   "id": "planned-surgery",
   "metadata": {
    "scrolled": false
   },
   "outputs": [],
   "source": [
    "R2 = sympy.S.Zero\n",
    "for sub_g in get_all_subg(g, s):\n",
    "    res3 = sympy.S.Zero\n",
    "    for v in sub_g.g:\n",
    "        ism = get_isthmus(sub_g, s, v)\n",
    "        if ism is None:\n",
    "            continue\n",
    "        ts2 = [edges[0].t * 2 for eid, edges in sub_g.edges.items() if eid != ism.eid]\n",
    "        Rk = Rks[len(ts2)].subs([(w, t2) for w, t2 in zip(ws, ts2)])\n",
    "        res4 = sympy.S.Zero\n",
    "        for cs in all_routes(sub_g, s, v):\n",
    "            res4 += Rk.subs([(l,  T - sum(c * edge.t for edge, c in cs if edge.eid != ism.eid) - ism.t)])\n",
    "        res3 += res4\n",
    "    R2 += res3\n"
   ]
  },
  {
   "cell_type": "code",
   "execution_count": 9,
   "id": "baking-focus",
   "metadata": {},
   "outputs": [
    {
     "data": {
      "text/latex": [
       "$\\displaystyle \\operatorname{Poly}{\\left( \\frac{t_{0} + t_{1} + t_{2} + t_{3}}{6 t_{0} t_{1} t_{2} t_{3}} T^{3} + \\frac{t_{0} t_{1} + t_{0} t_{2} + t_{0} t_{3} + t_{1} t_{2} + t_{1} t_{3} + t_{2} t_{3}}{2 t_{0} t_{1} t_{2} t_{3}} T^{2} + \\frac{t_{0}^{2} t_{1} + t_{0}^{2} t_{2} + t_{0}^{2} t_{3} + t_{0} t_{1}^{2} + 9 t_{0} t_{1} t_{2} + 9 t_{0} t_{1} t_{3} + t_{0} t_{2}^{2} + 9 t_{0} t_{2} t_{3} + t_{0} t_{3}^{2} + t_{1}^{2} t_{2} + t_{1}^{2} t_{3} + t_{1} t_{2}^{2} + 9 t_{1} t_{2} t_{3} + t_{1} t_{3}^{2} + t_{2}^{2} t_{3} + t_{2} t_{3}^{2}}{12 t_{0} t_{1} t_{2} t_{3}} T + \\frac{t_{0}^{2} t_{1} t_{2} + t_{0}^{2} t_{1} t_{3} + t_{0}^{2} t_{2} t_{3} + t_{0} t_{1}^{2} t_{2} + t_{0} t_{1}^{2} t_{3} + t_{0} t_{1} t_{2}^{2} + 6 t_{0} t_{1} t_{2} t_{3} + t_{0} t_{1} t_{3}^{2} + t_{0} t_{2}^{2} t_{3} + t_{0} t_{2} t_{3}^{2} + t_{1}^{2} t_{2} t_{3} + t_{1} t_{2}^{2} t_{3} + t_{1} t_{2} t_{3}^{2}}{12 t_{0} t_{1} t_{2} t_{3}}, T, domain=\\mathbb{Z}\\left(t_{0}, t_{1}, t_{2}, t_{3}\\right) \\right)}$"
      ],
      "text/plain": [
       "Poly((t_0 + t_1 + t_2 + t_3)/(6*t_0*t_1*t_2*t_3)*T**3 + (t_0*t_1 + t_0*t_2 + t_0*t_3 + t_1*t_2 + t_1*t_3 + t_2*t_3)/(2*t_0*t_1*t_2*t_3)*T**2 + (t_0**2*t_1 + t_0**2*t_2 + t_0**2*t_3 + t_0*t_1**2 + 9*t_0*t_1*t_2 + 9*t_0*t_1*t_3 + t_0*t_2**2 + 9*t_0*t_2*t_3 + t_0*t_3**2 + t_1**2*t_2 + t_1**2*t_3 + t_1*t_2**2 + 9*t_1*t_2*t_3 + t_1*t_3**2 + t_2**2*t_3 + t_2*t_3**2)/(12*t_0*t_1*t_2*t_3)*T + (t_0**2*t_1*t_2 + t_0**2*t_1*t_3 + t_0**2*t_2*t_3 + t_0*t_1**2*t_2 + t_0*t_1**2*t_3 + t_0*t_1*t_2**2 + 6*t_0*t_1*t_2*t_3 + t_0*t_1*t_3**2 + t_0*t_2**2*t_3 + t_0*t_2*t_3**2 + t_1**2*t_2*t_3 + t_1*t_2**2*t_3 + t_1*t_2*t_3**2)/(12*t_0*t_1*t_2*t_3), T, domain='ZZ(t_0,t_1,t_2,t_3)')"
      ]
     },
     "execution_count": 9,
     "metadata": {},
     "output_type": "execute_result"
    }
   ],
   "source": [
    "R1 = sympy.simplify(R1)\n",
    "R2 = sympy.simplify(R2)\n",
    "N = sympy.simplify(sympy.Poly(R1, T) + sympy.Poly(R2, T))\n",
    "N"
   ]
  },
  {
   "cell_type": "code",
   "execution_count": 10,
   "id": "surface-romance",
   "metadata": {},
   "outputs": [
    {
     "data": {
      "text/latex": [
       "$\\displaystyle \\operatorname{Poly}{\\left( \\frac{t_{0} + t_{1} + t_{2} + t_{3}}{6 t_{0} t_{1} t_{2} t_{3}} T^{3} + \\frac{t_{0} t_{1} + t_{0} t_{2} + t_{0} t_{3} + t_{1} t_{2} + t_{1} t_{3} + t_{2} t_{3}}{2 t_{0} t_{1} t_{2} t_{3}} T^{2} + \\frac{t_{0}^{2} t_{1} + t_{0}^{2} t_{2} + t_{0}^{2} t_{3} + t_{0} t_{1}^{2} + 9 t_{0} t_{1} t_{2} + 9 t_{0} t_{1} t_{3} + t_{0} t_{2}^{2} + 9 t_{0} t_{2} t_{3} + t_{0} t_{3}^{2} + t_{1}^{2} t_{2} + t_{1}^{2} t_{3} + t_{1} t_{2}^{2} + 9 t_{1} t_{2} t_{3} + t_{1} t_{3}^{2} + t_{2}^{2} t_{3} + t_{2} t_{3}^{2}}{12 t_{0} t_{1} t_{2} t_{3}} T + \\frac{t_{0}^{2} t_{1} t_{2} + t_{0}^{2} t_{1} t_{3} + t_{0}^{2} t_{2} t_{3} + t_{0} t_{1}^{2} t_{2} + t_{0} t_{1}^{2} t_{3} + t_{0} t_{1} t_{2}^{2} + 6 t_{0} t_{1} t_{2} t_{3} + t_{0} t_{1} t_{3}^{2} + t_{0} t_{2}^{2} t_{3} + t_{0} t_{2} t_{3}^{2} + t_{1}^{2} t_{2} t_{3} + t_{1} t_{2}^{2} t_{3} + t_{1} t_{2} t_{3}^{2}}{12 t_{0} t_{1} t_{2} t_{3}}, T, domain=\\mathbb{Z}\\left(t_{0}, t_{1}, t_{2}, t_{3}\\right) \\right)}$"
      ],
      "text/plain": [
       "Poly((t_0 + t_1 + t_2 + t_3)/(6*t_0*t_1*t_2*t_3)*T**3 + (t_0*t_1 + t_0*t_2 + t_0*t_3 + t_1*t_2 + t_1*t_3 + t_2*t_3)/(2*t_0*t_1*t_2*t_3)*T**2 + (t_0**2*t_1 + t_0**2*t_2 + t_0**2*t_3 + t_0*t_1**2 + 9*t_0*t_1*t_2 + 9*t_0*t_1*t_3 + t_0*t_2**2 + 9*t_0*t_2*t_3 + t_0*t_3**2 + t_1**2*t_2 + t_1**2*t_3 + t_1*t_2**2 + 9*t_1*t_2*t_3 + t_1*t_3**2 + t_2**2*t_3 + t_2*t_3**2)/(12*t_0*t_1*t_2*t_3)*T + (t_0**2*t_1*t_2 + t_0**2*t_1*t_3 + t_0**2*t_2*t_3 + t_0*t_1**2*t_2 + t_0*t_1**2*t_3 + t_0*t_1*t_2**2 + 6*t_0*t_1*t_2*t_3 + t_0*t_1*t_3**2 + t_0*t_2**2*t_3 + t_0*t_2*t_3**2 + t_1**2*t_2*t_3 + t_1*t_2**2*t_3 + t_1*t_2*t_3**2)/(12*t_0*t_1*t_2*t_3), T, domain='ZZ(t_0,t_1,t_2,t_3)')"
      ]
     },
     "metadata": {},
     "output_type": "display_data"
    },
    {
     "data": {
      "text/latex": [
       "$\\displaystyle \\operatorname{Poly}{\\left( 0, T, domain=\\mathbb{Z} \\right)}$"
      ],
      "text/plain": [
       "Poly(0, T, domain='ZZ')"
      ]
     },
     "metadata": {},
     "output_type": "display_data"
    }
   ],
   "source": [
    "display(sympy.simplify(sympy.Poly(R1, T)), sympy.simplify(sympy.Poly(R2, T)))"
   ]
  },
  {
   "cell_type": "code",
   "execution_count": 15,
   "id": "mobile-competition",
   "metadata": {},
   "outputs": [],
   "source": [
    "k = 100\n",
    "t1 = sympy.S.One * k\n",
    "t2 = sympy.sqrt(2) * k\n",
    "t3 = sympy.sqrt(3) * k\n",
    "t4 = sympy.sqrt(5) * k\n",
    "t5 = sympy.sqrt(7) * k\n",
    "\n",
    "tvals = [t1, t2, t3, t4, t5]\n",
    "\n",
    "Tc = 5151.278789672293"
   ]
  },
  {
   "cell_type": "code",
   "execution_count": 16,
   "id": "circular-connecticut",
   "metadata": {},
   "outputs": [
    {
     "data": {
      "text/latex": [
       "$\\displaystyle 30294.5256041644$"
      ],
      "text/plain": [
       "30294.5256041644"
      ]
     },
     "execution_count": 16,
     "metadata": {},
     "output_type": "execute_result"
    }
   ],
   "source": [
    "N.subs([\n",
    "    (T, Tc)\n",
    "]).subs(zip(ts, tvals)).evalf() # 30294.5256041644, 30299 is correct"
   ]
  },
  {
   "cell_type": "code",
   "execution_count": null,
   "id": "funky-madness",
   "metadata": {},
   "outputs": [],
   "source": []
  },
  {
   "cell_type": "code",
   "execution_count": null,
   "id": "super-retreat",
   "metadata": {},
   "outputs": [],
   "source": []
  }
 ],
 "metadata": {
  "kernelspec": {
   "display_name": "Python 3",
   "language": "python",
   "name": "python3"
  },
  "language_info": {
   "codemirror_mode": {
    "name": "ipython",
    "version": 3
   },
   "file_extension": ".py",
   "mimetype": "text/x-python",
   "name": "python",
   "nbconvert_exporter": "python",
   "pygments_lexer": "ipython3",
   "version": "3.9.7"
  }
 },
 "nbformat": 4,
 "nbformat_minor": 5
}
